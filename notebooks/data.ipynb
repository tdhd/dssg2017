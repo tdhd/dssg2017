{
 "cells": [
  {
   "cell_type": "code",
   "execution_count": 1,
   "metadata": {
    "collapsed": true
   },
   "outputs": [],
   "source": [
    "%matplotlib inline\n",
    "\n",
    "import numpy as np\n",
    "import pandas as pd\n",
    "from glob import glob\n",
    "import matplotlib.pyplot as plt\n",
    "import seaborn as sns"
   ]
  },
  {
   "cell_type": "code",
   "execution_count": 2,
   "metadata": {
    "collapsed": false
   },
   "outputs": [
    {
     "data": {
      "text/plain": [
       "(45885, 22)"
      ]
     },
     "execution_count": 2,
     "metadata": {},
     "output_type": "execute_result"
    }
   ],
   "source": [
    "features = pd.read_csv(\"../../data/master/features/features.csv\")\n",
    "features.shape"
   ]
  },
  {
   "cell_type": "code",
   "execution_count": 3,
   "metadata": {
    "collapsed": false
   },
   "outputs": [
    {
     "name": "stdout",
     "output_type": "stream",
     "text": [
      "<class 'pandas.core.frame.DataFrame'>\n",
      "RangeIndex: 45885 entries, 0 to 45884\n",
      "Data columns (total 22 columns):\n",
      "num                       45885 non-null int64\n",
      "record-number             45885 non-null int64\n",
      "filename                  40201 non-null object\n",
      "pdfismissing              45885 non-null int64\n",
      "author                    45885 non-null object\n",
      "fulltitle                 45885 non-null object\n",
      "subtitle                  45023 non-null object\n",
      "pages                     45885 non-null object\n",
      "volume                    44304 non-null object\n",
      "number                    43726 non-null object\n",
      "keywords                  45885 non-null object\n",
      "searchquery_terms         45885 non-null object\n",
      "classifications           45885 non-null object\n",
      "cancer_types              45885 non-null object\n",
      "label_top_level           45885 non-null object\n",
      "useful                    45885 non-null int64\n",
      "review_article            45885 non-null int64\n",
      "not_allowed_in_germany    45885 non-null object\n",
      "year                      45885 non-null object\n",
      "abstract                  42868 non-null object\n",
      "pub-location              26430 non-null object\n",
      "publisher                 28652 non-null object\n",
      "dtypes: int64(5), object(17)\n",
      "memory usage: 7.7+ MB\n"
     ]
    }
   ],
   "source": [
    "features.info()"
   ]
  },
  {
   "cell_type": "code",
   "execution_count": 4,
   "metadata": {
    "collapsed": false
   },
   "outputs": [
    {
     "data": {
      "text/html": [
       "<div>\n",
       "<table border=\"1\" class=\"dataframe\">\n",
       "  <thead>\n",
       "    <tr style=\"text-align: right;\">\n",
       "      <th></th>\n",
       "      <th>num</th>\n",
       "      <th>record-number</th>\n",
       "      <th>filename</th>\n",
       "      <th>pdfismissing</th>\n",
       "      <th>author</th>\n",
       "      <th>fulltitle</th>\n",
       "      <th>subtitle</th>\n",
       "      <th>pages</th>\n",
       "      <th>volume</th>\n",
       "      <th>number</th>\n",
       "      <th>...</th>\n",
       "      <th>classifications</th>\n",
       "      <th>cancer_types</th>\n",
       "      <th>label_top_level</th>\n",
       "      <th>useful</th>\n",
       "      <th>review_article</th>\n",
       "      <th>not_allowed_in_germany</th>\n",
       "      <th>year</th>\n",
       "      <th>abstract</th>\n",
       "      <th>pub-location</th>\n",
       "      <th>publisher</th>\n",
       "    </tr>\n",
       "  </thead>\n",
       "  <tbody>\n",
       "    <tr>\n",
       "      <th>0</th>\n",
       "      <td>1</td>\n",
       "      <td>6667</td>\n",
       "      <td>NaN</td>\n",
       "      <td>0</td>\n",
       "      <td>[]</td>\n",
       "      <td>Prolongation of the disease-free interval in s...</td>\n",
       "      <td>The New England journal of medicine</td>\n",
       "      <td>1465-1472</td>\n",
       "      <td>312</td>\n",
       "      <td>6667_1985</td>\n",
       "      <td>...</td>\n",
       "      <td>[]</td>\n",
       "      <td>[]</td>\n",
       "      <td>[]</td>\n",
       "      <td>0</td>\n",
       "      <td>0</td>\n",
       "      <td>[]</td>\n",
       "      <td>1985</td>\n",
       "      <td>To assess the effects of postoperative radiati...</td>\n",
       "      <td>NaN</td>\n",
       "      <td>NaN</td>\n",
       "    </tr>\n",
       "    <tr>\n",
       "      <th>1</th>\n",
       "      <td>2</td>\n",
       "      <td>6668</td>\n",
       "      <td>6668_1990.pdf</td>\n",
       "      <td>0</td>\n",
       "      <td>[]</td>\n",
       "      <td>NIH consensus conference. Adjuvant therapy for...</td>\n",
       "      <td>JAMA</td>\n",
       "      <td>1444-1450</td>\n",
       "      <td>264</td>\n",
       "      <td>6668_1990</td>\n",
       "      <td>...</td>\n",
       "      <td>[]</td>\n",
       "      <td>[]</td>\n",
       "      <td>[]</td>\n",
       "      <td>0</td>\n",
       "      <td>0</td>\n",
       "      <td>[]</td>\n",
       "      <td>1990</td>\n",
       "      <td>NaN</td>\n",
       "      <td>NaN</td>\n",
       "      <td>NaN</td>\n",
       "    </tr>\n",
       "    <tr>\n",
       "      <th>2</th>\n",
       "      <td>3</td>\n",
       "      <td>19866</td>\n",
       "      <td>NaN</td>\n",
       "      <td>0</td>\n",
       "      <td>[]</td>\n",
       "      <td>American College of Sports Medicine position s...</td>\n",
       "      <td>Medicine and Science in Sports and Exercise</td>\n",
       "      <td>265-274</td>\n",
       "      <td>22</td>\n",
       "      <td>19866_1990</td>\n",
       "      <td>...</td>\n",
       "      <td>['basis,6-bew']</td>\n",
       "      <td>['basis']</td>\n",
       "      <td>['6']</td>\n",
       "      <td>1</td>\n",
       "      <td>0</td>\n",
       "      <td>[]</td>\n",
       "      <td>1990</td>\n",
       "      <td>The combination of frequency, intensity, and d...</td>\n",
       "      <td>NaN</td>\n",
       "      <td>NaN</td>\n",
       "    </tr>\n",
       "    <tr>\n",
       "      <th>3</th>\n",
       "      <td>4</td>\n",
       "      <td>22005</td>\n",
       "      <td>22005_1993.pdf</td>\n",
       "      <td>0</td>\n",
       "      <td>[]</td>\n",
       "      <td>A predictive model for aggressive non-Hodgkin'...</td>\n",
       "      <td>N.Engl.J.Med.</td>\n",
       "      <td>987-994</td>\n",
       "      <td>329</td>\n",
       "      <td>22005_1993</td>\n",
       "      <td>...</td>\n",
       "      <td>[]</td>\n",
       "      <td>[]</td>\n",
       "      <td>[]</td>\n",
       "      <td>0</td>\n",
       "      <td>0</td>\n",
       "      <td>[]</td>\n",
       "      <td>1993</td>\n",
       "      <td>BACKGROUND: Although many patients with interm...</td>\n",
       "      <td>NaN</td>\n",
       "      <td>NaN</td>\n",
       "    </tr>\n",
       "    <tr>\n",
       "      <th>4</th>\n",
       "      <td>5</td>\n",
       "      <td>2050</td>\n",
       "      <td>NaN</td>\n",
       "      <td>0</td>\n",
       "      <td>['Hermanek,P.','Marzoli,G.P.']</td>\n",
       "      <td>Lokale Therapie des Rektumkarzinoms. Verfahren...</td>\n",
       "      <td>NaN</td>\n",
       "      <td>-</td>\n",
       "      <td>NaN</td>\n",
       "      <td>2050_hermanek1994</td>\n",
       "      <td>...</td>\n",
       "      <td>[]</td>\n",
       "      <td>[]</td>\n",
       "      <td>[]</td>\n",
       "      <td>0</td>\n",
       "      <td>0</td>\n",
       "      <td>[]</td>\n",
       "      <td>1994</td>\n",
       "      <td>NaN</td>\n",
       "      <td>Berlin Heidelberg Ney York Tokyo</td>\n",
       "      <td>Springer</td>\n",
       "    </tr>\n",
       "  </tbody>\n",
       "</table>\n",
       "<p>5 rows × 22 columns</p>\n",
       "</div>"
      ],
      "text/plain": [
       "   num  record-number        filename  pdfismissing  \\\n",
       "0    1           6667             NaN             0   \n",
       "1    2           6668   6668_1990.pdf             0   \n",
       "2    3          19866             NaN             0   \n",
       "3    4          22005  22005_1993.pdf             0   \n",
       "4    5           2050             NaN             0   \n",
       "\n",
       "                           author  \\\n",
       "0                              []   \n",
       "1                              []   \n",
       "2                              []   \n",
       "3                              []   \n",
       "4  ['Hermanek,P.','Marzoli,G.P.']   \n",
       "\n",
       "                                           fulltitle  \\\n",
       "0  Prolongation of the disease-free interval in s...   \n",
       "1  NIH consensus conference. Adjuvant therapy for...   \n",
       "2  American College of Sports Medicine position s...   \n",
       "3  A predictive model for aggressive non-Hodgkin'...   \n",
       "4  Lokale Therapie des Rektumkarzinoms. Verfahren...   \n",
       "\n",
       "                                      subtitle      pages volume  \\\n",
       "0          The New England journal of medicine  1465-1472    312   \n",
       "1                                         JAMA  1444-1450    264   \n",
       "2  Medicine and Science in Sports and Exercise    265-274     22   \n",
       "3                                N.Engl.J.Med.    987-994    329   \n",
       "4                                          NaN          -    NaN   \n",
       "\n",
       "              number    ...     classifications cancer_types label_top_level  \\\n",
       "0          6667_1985    ...                  []           []              []   \n",
       "1          6668_1990    ...                  []           []              []   \n",
       "2         19866_1990    ...     ['basis,6-bew']    ['basis']           ['6']   \n",
       "3         22005_1993    ...                  []           []              []   \n",
       "4  2050_hermanek1994    ...                  []           []              []   \n",
       "\n",
       "  useful review_article  not_allowed_in_germany  year  \\\n",
       "0      0              0                      []  1985   \n",
       "1      0              0                      []  1990   \n",
       "2      1              0                      []  1990   \n",
       "3      0              0                      []  1993   \n",
       "4      0              0                      []  1994   \n",
       "\n",
       "                                            abstract  \\\n",
       "0  To assess the effects of postoperative radiati...   \n",
       "1                                                NaN   \n",
       "2  The combination of frequency, intensity, and d...   \n",
       "3  BACKGROUND: Although many patients with interm...   \n",
       "4                                                NaN   \n",
       "\n",
       "                       pub-location publisher  \n",
       "0                               NaN       NaN  \n",
       "1                               NaN       NaN  \n",
       "2                               NaN       NaN  \n",
       "3                               NaN       NaN  \n",
       "4  Berlin Heidelberg Ney York Tokyo  Springer  \n",
       "\n",
       "[5 rows x 22 columns]"
      ]
     },
     "execution_count": 4,
     "metadata": {},
     "output_type": "execute_result"
    }
   ],
   "source": [
    "features.head(5)"
   ]
  },
  {
   "cell_type": "code",
   "execution_count": 5,
   "metadata": {
    "collapsed": false
   },
   "outputs": [
    {
     "data": {
      "text/plain": [
       "(40201,)"
      ]
     },
     "execution_count": 5,
     "metadata": {},
     "output_type": "execute_result"
    }
   ],
   "source": [
    "features.filename.dropna().shape"
   ]
  },
  {
   "cell_type": "code",
   "execution_count": 6,
   "metadata": {
    "collapsed": false
   },
   "outputs": [
    {
     "data": {
      "text/plain": [
       "6470"
      ]
     },
     "execution_count": 6,
     "metadata": {},
     "output_type": "execute_result"
    }
   ],
   "source": [
    "len(features.publisher.unique())"
   ]
  },
  {
   "cell_type": "code",
   "execution_count": 7,
   "metadata": {
    "collapsed": false
   },
   "outputs": [
    {
     "data": {
      "text/plain": [
       "useful\n",
       "0    24797\n",
       "1    21088\n",
       "Name: num, dtype: int64"
      ]
     },
     "execution_count": 7,
     "metadata": {},
     "output_type": "execute_result"
    }
   ],
   "source": [
    "features.groupby('useful')['num'].agg('count')"
   ]
  },
  {
   "cell_type": "code",
   "execution_count": 8,
   "metadata": {
    "collapsed": false
   },
   "outputs": [],
   "source": [
    "features['n_classifications'] = features.classifications.apply(lambda r: len(r))"
   ]
  },
  {
   "cell_type": "code",
   "execution_count": 9,
   "metadata": {
    "collapsed": false
   },
   "outputs": [
    {
     "data": {
      "text/plain": [
       "<matplotlib.axes._subplots.AxesSubplot at 0x7fdc908e3910>"
      ]
     },
     "execution_count": 9,
     "metadata": {},
     "output_type": "execute_result"
    },
    {
     "data": {
      "image/png": "[encoded data removed]",
      "text/plain": [
       "<matplotlib.figure.Figure at 0x7fdcd021a490>"
      ]
     },
     "metadata": {},
     "output_type": "display_data"
    }
   ],
   "source": [
    "sns.distplot(features[features['useful'] == 0.0]['n_classifications'], kde=False)\n",
    "sns.distplot(features[features['useful'] == 1.0]['n_classifications'], color='red', kde=False)"
   ]
  },
  {
   "cell_type": "code",
   "execution_count": 10,
   "metadata": {
    "collapsed": false
   },
   "outputs": [
    {
     "data": {
      "text/plain": [
       "n_classifications  useful\n",
       "2                  0         24797\n",
       "9                  1            12\n",
       "10                 1            14\n",
       "11                 1           104\n",
       "12                 1            54\n",
       "13                 1           234\n",
       "14                 1          1423\n",
       "15                 1          1692\n",
       "16                 1          1360\n",
       "17                 1          1680\n",
       "18                 1          1710\n",
       "19                 1          1513\n",
       "20                 1          2024\n",
       "21                 1          1061\n",
       "22                 1          1008\n",
       "23                 1           908\n",
       "24                 1           472\n",
       "25                 1           439\n",
       "26                 1           793\n",
       "27                 1           284\n",
       "28                 1           511\n",
       "29                 1           213\n",
       "30                 1           381\n",
       "31                 1           413\n",
       "32                 1           206\n",
       "33                 1           200\n",
       "34                 1           130\n",
       "35                 1           156\n",
       "36                 1           127\n",
       "37                 1            76\n",
       "                             ...  \n",
       "357                1             1\n",
       "359                1             2\n",
       "360                1             1\n",
       "373                1             1\n",
       "375                1             1\n",
       "383                1             1\n",
       "390                1             1\n",
       "395                1             1\n",
       "417                1             1\n",
       "419                1             1\n",
       "426                1             1\n",
       "435                1             1\n",
       "439                1             1\n",
       "440                1             1\n",
       "456                1             1\n",
       "458                1             1\n",
       "491                1             1\n",
       "501                1             1\n",
       "504                1             1\n",
       "539                1             1\n",
       "557                1             1\n",
       "600                1             1\n",
       "623                1             1\n",
       "662                1             1\n",
       "673                1             1\n",
       "729                1             1\n",
       "939                1             1\n",
       "955                1             1\n",
       "971                1             1\n",
       "1098               1             1\n",
       "Name: num, dtype: int64"
      ]
     },
     "execution_count": 10,
     "metadata": {},
     "output_type": "execute_result"
    }
   ],
   "source": [
    "features.groupby(['n_classifications', 'useful'])['num'].agg('count')"
   ]
  },
  {
   "cell_type": "code",
   "execution_count": 11,
   "metadata": {
    "collapsed": false
   },
   "outputs": [
    {
     "data": {
      "text/html": [
       "<div>\n",
       "<table border=\"1\" class=\"dataframe\">\n",
       "  <thead>\n",
       "    <tr style=\"text-align: right;\">\n",
       "      <th></th>\n",
       "      <th>classifications</th>\n",
       "      <th>useful</th>\n",
       "      <th>n_classifications</th>\n",
       "    </tr>\n",
       "  </thead>\n",
       "  <tbody>\n",
       "    <tr>\n",
       "      <th>0</th>\n",
       "      <td>[]</td>\n",
       "      <td>0</td>\n",
       "      <td>2</td>\n",
       "    </tr>\n",
       "    <tr>\n",
       "      <th>1</th>\n",
       "      <td>[]</td>\n",
       "      <td>0</td>\n",
       "      <td>2</td>\n",
       "    </tr>\n",
       "    <tr>\n",
       "      <th>2</th>\n",
       "      <td>['basis,6-bew']</td>\n",
       "      <td>1</td>\n",
       "      <td>15</td>\n",
       "    </tr>\n",
       "    <tr>\n",
       "      <th>3</th>\n",
       "      <td>[]</td>\n",
       "      <td>0</td>\n",
       "      <td>2</td>\n",
       "    </tr>\n",
       "    <tr>\n",
       "      <th>4</th>\n",
       "      <td>[]</td>\n",
       "      <td>0</td>\n",
       "      <td>2</td>\n",
       "    </tr>\n",
       "    <tr>\n",
       "      <th>5</th>\n",
       "      <td>[]</td>\n",
       "      <td>0</td>\n",
       "      <td>2</td>\n",
       "    </tr>\n",
       "    <tr>\n",
       "      <th>6</th>\n",
       "      <td>[]</td>\n",
       "      <td>0</td>\n",
       "      <td>2</td>\n",
       "    </tr>\n",
       "    <tr>\n",
       "      <th>7</th>\n",
       "      <td>[]</td>\n",
       "      <td>0</td>\n",
       "      <td>2</td>\n",
       "    </tr>\n",
       "    <tr>\n",
       "      <th>8</th>\n",
       "      <td>[]</td>\n",
       "      <td>0</td>\n",
       "      <td>2</td>\n",
       "    </tr>\n",
       "    <tr>\n",
       "      <th>9</th>\n",
       "      <td>[]</td>\n",
       "      <td>0</td>\n",
       "      <td>2</td>\n",
       "    </tr>\n",
       "    <tr>\n",
       "      <th>10</th>\n",
       "      <td>[]</td>\n",
       "      <td>0</td>\n",
       "      <td>2</td>\n",
       "    </tr>\n",
       "    <tr>\n",
       "      <th>11</th>\n",
       "      <td>['basis,5-dyspn']</td>\n",
       "      <td>1</td>\n",
       "      <td>17</td>\n",
       "    </tr>\n",
       "    <tr>\n",
       "      <th>12</th>\n",
       "      <td>[]</td>\n",
       "      <td>0</td>\n",
       "      <td>2</td>\n",
       "    </tr>\n",
       "    <tr>\n",
       "      <th>13</th>\n",
       "      <td>[]</td>\n",
       "      <td>0</td>\n",
       "      <td>2</td>\n",
       "    </tr>\n",
       "    <tr>\n",
       "      <th>14</th>\n",
       "      <td>['basis,6-physio']</td>\n",
       "      <td>1</td>\n",
       "      <td>18</td>\n",
       "    </tr>\n",
       "    <tr>\n",
       "      <th>15</th>\n",
       "      <td>[]</td>\n",
       "      <td>0</td>\n",
       "      <td>2</td>\n",
       "    </tr>\n",
       "    <tr>\n",
       "      <th>16</th>\n",
       "      <td>['basis,6-zvk']</td>\n",
       "      <td>1</td>\n",
       "      <td>15</td>\n",
       "    </tr>\n",
       "    <tr>\n",
       "      <th>17</th>\n",
       "      <td>[]</td>\n",
       "      <td>0</td>\n",
       "      <td>2</td>\n",
       "    </tr>\n",
       "    <tr>\n",
       "      <th>18</th>\n",
       "      <td>[]</td>\n",
       "      <td>0</td>\n",
       "      <td>2</td>\n",
       "    </tr>\n",
       "    <tr>\n",
       "      <th>19</th>\n",
       "      <td>[]</td>\n",
       "      <td>0</td>\n",
       "      <td>2</td>\n",
       "    </tr>\n",
       "    <tr>\n",
       "      <th>20</th>\n",
       "      <td>['basis,6-bew','basis,7-reha']</td>\n",
       "      <td>1</td>\n",
       "      <td>30</td>\n",
       "    </tr>\n",
       "    <tr>\n",
       "      <th>21</th>\n",
       "      <td>['basis,7-pm']</td>\n",
       "      <td>1</td>\n",
       "      <td>14</td>\n",
       "    </tr>\n",
       "    <tr>\n",
       "      <th>22</th>\n",
       "      <td>[]</td>\n",
       "      <td>0</td>\n",
       "      <td>2</td>\n",
       "    </tr>\n",
       "    <tr>\n",
       "      <th>23</th>\n",
       "      <td>[]</td>\n",
       "      <td>0</td>\n",
       "      <td>2</td>\n",
       "    </tr>\n",
       "    <tr>\n",
       "      <th>24</th>\n",
       "      <td>[]</td>\n",
       "      <td>0</td>\n",
       "      <td>2</td>\n",
       "    </tr>\n",
       "    <tr>\n",
       "      <th>25</th>\n",
       "      <td>[]</td>\n",
       "      <td>0</td>\n",
       "      <td>2</td>\n",
       "    </tr>\n",
       "    <tr>\n",
       "      <th>26</th>\n",
       "      <td>[]</td>\n",
       "      <td>0</td>\n",
       "      <td>2</td>\n",
       "    </tr>\n",
       "    <tr>\n",
       "      <th>27</th>\n",
       "      <td>[]</td>\n",
       "      <td>0</td>\n",
       "      <td>2</td>\n",
       "    </tr>\n",
       "    <tr>\n",
       "      <th>28</th>\n",
       "      <td>[]</td>\n",
       "      <td>0</td>\n",
       "      <td>2</td>\n",
       "    </tr>\n",
       "    <tr>\n",
       "      <th>29</th>\n",
       "      <td>[]</td>\n",
       "      <td>0</td>\n",
       "      <td>2</td>\n",
       "    </tr>\n",
       "    <tr>\n",
       "      <th>...</th>\n",
       "      <td>...</td>\n",
       "      <td>...</td>\n",
       "      <td>...</td>\n",
       "    </tr>\n",
       "    <tr>\n",
       "      <th>45855</th>\n",
       "      <td>[]</td>\n",
       "      <td>0</td>\n",
       "      <td>2</td>\n",
       "    </tr>\n",
       "    <tr>\n",
       "      <th>45856</th>\n",
       "      <td>[]</td>\n",
       "      <td>0</td>\n",
       "      <td>2</td>\n",
       "    </tr>\n",
       "    <tr>\n",
       "      <th>45857</th>\n",
       "      <td>[]</td>\n",
       "      <td>0</td>\n",
       "      <td>2</td>\n",
       "    </tr>\n",
       "    <tr>\n",
       "      <th>45858</th>\n",
       "      <td>[]</td>\n",
       "      <td>0</td>\n",
       "      <td>2</td>\n",
       "    </tr>\n",
       "    <tr>\n",
       "      <th>45859</th>\n",
       "      <td>[]</td>\n",
       "      <td>0</td>\n",
       "      <td>2</td>\n",
       "    </tr>\n",
       "    <tr>\n",
       "      <th>45860</th>\n",
       "      <td>[]</td>\n",
       "      <td>0</td>\n",
       "      <td>2</td>\n",
       "    </tr>\n",
       "    <tr>\n",
       "      <th>45861</th>\n",
       "      <td>[]</td>\n",
       "      <td>0</td>\n",
       "      <td>2</td>\n",
       "    </tr>\n",
       "    <tr>\n",
       "      <th>45862</th>\n",
       "      <td>[]</td>\n",
       "      <td>0</td>\n",
       "      <td>2</td>\n",
       "    </tr>\n",
       "    <tr>\n",
       "      <th>45863</th>\n",
       "      <td>[]</td>\n",
       "      <td>0</td>\n",
       "      <td>2</td>\n",
       "    </tr>\n",
       "    <tr>\n",
       "      <th>45864</th>\n",
       "      <td>[]</td>\n",
       "      <td>0</td>\n",
       "      <td>2</td>\n",
       "    </tr>\n",
       "    <tr>\n",
       "      <th>45865</th>\n",
       "      <td>[]</td>\n",
       "      <td>0</td>\n",
       "      <td>2</td>\n",
       "    </tr>\n",
       "    <tr>\n",
       "      <th>45866</th>\n",
       "      <td>[]</td>\n",
       "      <td>0</td>\n",
       "      <td>2</td>\n",
       "    </tr>\n",
       "    <tr>\n",
       "      <th>45867</th>\n",
       "      <td>[]</td>\n",
       "      <td>0</td>\n",
       "      <td>2</td>\n",
       "    </tr>\n",
       "    <tr>\n",
       "      <th>45868</th>\n",
       "      <td>[]</td>\n",
       "      <td>0</td>\n",
       "      <td>2</td>\n",
       "    </tr>\n",
       "    <tr>\n",
       "      <th>45869</th>\n",
       "      <td>[]</td>\n",
       "      <td>0</td>\n",
       "      <td>2</td>\n",
       "    </tr>\n",
       "    <tr>\n",
       "      <th>45870</th>\n",
       "      <td>[]</td>\n",
       "      <td>0</td>\n",
       "      <td>2</td>\n",
       "    </tr>\n",
       "    <tr>\n",
       "      <th>45871</th>\n",
       "      <td>[]</td>\n",
       "      <td>0</td>\n",
       "      <td>2</td>\n",
       "    </tr>\n",
       "    <tr>\n",
       "      <th>45872</th>\n",
       "      <td>[]</td>\n",
       "      <td>0</td>\n",
       "      <td>2</td>\n",
       "    </tr>\n",
       "    <tr>\n",
       "      <th>45873</th>\n",
       "      <td>[]</td>\n",
       "      <td>0</td>\n",
       "      <td>2</td>\n",
       "    </tr>\n",
       "    <tr>\n",
       "      <th>45874</th>\n",
       "      <td>[]</td>\n",
       "      <td>0</td>\n",
       "      <td>2</td>\n",
       "    </tr>\n",
       "    <tr>\n",
       "      <th>45875</th>\n",
       "      <td>[]</td>\n",
       "      <td>0</td>\n",
       "      <td>2</td>\n",
       "    </tr>\n",
       "    <tr>\n",
       "      <th>45876</th>\n",
       "      <td>[]</td>\n",
       "      <td>0</td>\n",
       "      <td>2</td>\n",
       "    </tr>\n",
       "    <tr>\n",
       "      <th>45877</th>\n",
       "      <td>[]</td>\n",
       "      <td>0</td>\n",
       "      <td>2</td>\n",
       "    </tr>\n",
       "    <tr>\n",
       "      <th>45878</th>\n",
       "      <td>[]</td>\n",
       "      <td>0</td>\n",
       "      <td>2</td>\n",
       "    </tr>\n",
       "    <tr>\n",
       "      <th>45879</th>\n",
       "      <td>[]</td>\n",
       "      <td>0</td>\n",
       "      <td>2</td>\n",
       "    </tr>\n",
       "    <tr>\n",
       "      <th>45880</th>\n",
       "      <td>[]</td>\n",
       "      <td>0</td>\n",
       "      <td>2</td>\n",
       "    </tr>\n",
       "    <tr>\n",
       "      <th>45881</th>\n",
       "      <td>[]</td>\n",
       "      <td>0</td>\n",
       "      <td>2</td>\n",
       "    </tr>\n",
       "    <tr>\n",
       "      <th>45882</th>\n",
       "      <td>[]</td>\n",
       "      <td>0</td>\n",
       "      <td>2</td>\n",
       "    </tr>\n",
       "    <tr>\n",
       "      <th>45883</th>\n",
       "      <td>[]</td>\n",
       "      <td>0</td>\n",
       "      <td>2</td>\n",
       "    </tr>\n",
       "    <tr>\n",
       "      <th>45884</th>\n",
       "      <td>[]</td>\n",
       "      <td>0</td>\n",
       "      <td>2</td>\n",
       "    </tr>\n",
       "  </tbody>\n",
       "</table>\n",
       "<p>45885 rows × 3 columns</p>\n",
       "</div>"
      ],
      "text/plain": [
       "                      classifications  useful  n_classifications\n",
       "0                                  []       0                  2\n",
       "1                                  []       0                  2\n",
       "2                     ['basis,6-bew']       1                 15\n",
       "3                                  []       0                  2\n",
       "4                                  []       0                  2\n",
       "5                                  []       0                  2\n",
       "6                                  []       0                  2\n",
       "7                                  []       0                  2\n",
       "8                                  []       0                  2\n",
       "9                                  []       0                  2\n",
       "10                                 []       0                  2\n",
       "11                  ['basis,5-dyspn']       1                 17\n",
       "12                                 []       0                  2\n",
       "13                                 []       0                  2\n",
       "14                 ['basis,6-physio']       1                 18\n",
       "15                                 []       0                  2\n",
       "16                    ['basis,6-zvk']       1                 15\n",
       "17                                 []       0                  2\n",
       "18                                 []       0                  2\n",
       "19                                 []       0                  2\n",
       "20     ['basis,6-bew','basis,7-reha']       1                 30\n",
       "21                     ['basis,7-pm']       1                 14\n",
       "22                                 []       0                  2\n",
       "23                                 []       0                  2\n",
       "24                                 []       0                  2\n",
       "25                                 []       0                  2\n",
       "26                                 []       0                  2\n",
       "27                                 []       0                  2\n",
       "28                                 []       0                  2\n",
       "29                                 []       0                  2\n",
       "...                               ...     ...                ...\n",
       "45855                              []       0                  2\n",
       "45856                              []       0                  2\n",
       "45857                              []       0                  2\n",
       "45858                              []       0                  2\n",
       "45859                              []       0                  2\n",
       "45860                              []       0                  2\n",
       "45861                              []       0                  2\n",
       "45862                              []       0                  2\n",
       "45863                              []       0                  2\n",
       "45864                              []       0                  2\n",
       "45865                              []       0                  2\n",
       "45866                              []       0                  2\n",
       "45867                              []       0                  2\n",
       "45868                              []       0                  2\n",
       "45869                              []       0                  2\n",
       "45870                              []       0                  2\n",
       "45871                              []       0                  2\n",
       "45872                              []       0                  2\n",
       "45873                              []       0                  2\n",
       "45874                              []       0                  2\n",
       "45875                              []       0                  2\n",
       "45876                              []       0                  2\n",
       "45877                              []       0                  2\n",
       "45878                              []       0                  2\n",
       "45879                              []       0                  2\n",
       "45880                              []       0                  2\n",
       "45881                              []       0                  2\n",
       "45882                              []       0                  2\n",
       "45883                              []       0                  2\n",
       "45884                              []       0                  2\n",
       "\n",
       "[45885 rows x 3 columns]"
      ]
     },
     "execution_count": 11,
     "metadata": {},
     "output_type": "execute_result"
    }
   ],
   "source": [
    "features[['classifications', 'useful', 'n_classifications']]"
   ]
  },
  {
   "cell_type": "code",
   "execution_count": 12,
   "metadata": {
    "collapsed": false
   },
   "outputs": [],
   "source": [
    "def npagest(s):\n",
    "    try:\n",
    "        t = s.split(\"-\")\n",
    "        return int(t[1]) - int(t[0])\n",
    "    except:\n",
    "        return np.nan\n",
    "\n",
    "features['npages'] = features['pages'].apply(npagest)"
   ]
  },
  {
   "cell_type": "code",
   "execution_count": 13,
   "metadata": {
    "collapsed": true
   },
   "outputs": [],
   "source": [
    "features['n_authors'] = features['author'].apply(lambda r: len(r))"
   ]
  },
  {
   "cell_type": "code",
   "execution_count": 14,
   "metadata": {
    "collapsed": false
   },
   "outputs": [
    {
     "data": {
      "text/plain": [
       "<matplotlib.legend.Legend at 0x7fdc92cba890>"
      ]
     },
     "execution_count": 14,
     "metadata": {},
     "output_type": "execute_result"
    },
    {
     "data": {
      "image/png": "[encoded data removed]",
      "text/plain": [
       "<matplotlib.figure.Figure at 0x7fdcd7e5cfd0>"
      ]
     },
     "metadata": {},
     "output_type": "display_data"
    }
   ],
   "source": [
    "sns.distplot(features[features['useful'] == 0]['npages'].dropna(), kde=False)\n",
    "sns.distplot(features[features['useful'] == 1]['npages'].dropna(), color='r', kde=False)\n",
    "plt.legend(['not useful', 'useful'])"
   ]
  },
  {
   "cell_type": "code",
   "execution_count": 15,
   "metadata": {
    "collapsed": false
   },
   "outputs": [
    {
     "data": {
      "text/plain": [
       "<matplotlib.legend.Legend at 0x7fdc92cbaf10>"
      ]
     },
     "execution_count": 15,
     "metadata": {},
     "output_type": "execute_result"
    },
    {
     "data": {
      "image/png": "[encoded data removed]",
      "text/plain": [
       "<matplotlib.figure.Figure at 0x7fdcd0284cd0>"
      ]
     },
     "metadata": {},
     "output_type": "display_data"
    }
   ],
   "source": [
    "\n",
    "sns.distplot(features[features['useful'] == 0]['n_authors'].dropna(), kde=False)\n",
    "sns.distplot(features[features['useful'] == 1]['n_authors'].dropna(), color='r', kde=False)\n",
    "plt.legend(['not useful', 'useful'])"
   ]
  },
  {
   "cell_type": "code",
   "execution_count": 16,
   "metadata": {
    "collapsed": false
   },
   "outputs": [
    {
     "data": {
      "text/html": [
       "<div>\n",
       "<table border=\"1\" class=\"dataframe\">\n",
       "  <thead>\n",
       "    <tr style=\"text-align: right;\">\n",
       "      <th></th>\n",
       "      <th>pdfismissing</th>\n",
       "      <th>useful</th>\n",
       "      <th>num</th>\n",
       "    </tr>\n",
       "  </thead>\n",
       "  <tbody>\n",
       "    <tr>\n",
       "      <th>0</th>\n",
       "      <td>0</td>\n",
       "      <td>0</td>\n",
       "      <td>24619</td>\n",
       "    </tr>\n",
       "    <tr>\n",
       "      <th>1</th>\n",
       "      <td>0</td>\n",
       "      <td>1</td>\n",
       "      <td>20926</td>\n",
       "    </tr>\n",
       "    <tr>\n",
       "      <th>2</th>\n",
       "      <td>1</td>\n",
       "      <td>0</td>\n",
       "      <td>178</td>\n",
       "    </tr>\n",
       "    <tr>\n",
       "      <th>3</th>\n",
       "      <td>1</td>\n",
       "      <td>1</td>\n",
       "      <td>162</td>\n",
       "    </tr>\n",
       "  </tbody>\n",
       "</table>\n",
       "</div>"
      ],
      "text/plain": [
       "   pdfismissing  useful    num\n",
       "0             0       0  24619\n",
       "1             0       1  20926\n",
       "2             1       0    178\n",
       "3             1       1    162"
      ]
     },
     "execution_count": 16,
     "metadata": {},
     "output_type": "execute_result"
    }
   ],
   "source": [
    "features.groupby(['pdfismissing', 'useful']).agg('count')['num'].reset_index()"
   ]
  },
  {
   "cell_type": "code",
   "execution_count": 17,
   "metadata": {
    "collapsed": false
   },
   "outputs": [
    {
     "data": {
      "text/plain": [
       "(0.8499939071448881, 0.9101123595505618)"
      ]
     },
     "execution_count": 17,
     "metadata": {},
     "output_type": "execute_result"
    }
   ],
   "source": [
    "20926.0/24619, 162.0/178"
   ]
  },
  {
   "cell_type": "markdown",
   "metadata": {},
   "source": [
    "# abstract encoding"
   ]
  },
  {
   "cell_type": "code",
   "execution_count": 18,
   "metadata": {
    "collapsed": false
   },
   "outputs": [
    {
     "data": {
      "text/plain": [
       "(45885, 32)"
      ]
     },
     "execution_count": 18,
     "metadata": {},
     "output_type": "execute_result"
    }
   ],
   "source": [
    "from sklearn.feature_extraction.text import TfidfVectorizer\n",
    "tfidf = TfidfVectorizer(max_features=32).fit_transform(features.abstract.fillna(\"\"))\n",
    "tfidf.shape"
   ]
  },
  {
   "cell_type": "code",
   "execution_count": 19,
   "metadata": {
    "collapsed": false
   },
   "outputs": [],
   "source": [
    "# from sklearn.manifold import TSNE\n",
    "# tsne = TSNE(\n",
    "#     n_components=2,\n",
    "#     init='random', # pca\n",
    "#     random_state=101,\n",
    "#     method='barnes_hut',\n",
    "#     n_iter=200,\n",
    "#     verbose=2,\n",
    "#     angle=0.9 # speed up computation a little\n",
    "# ).fit_transform(tfidf.toarray())\n"
   ]
  },
  {
   "cell_type": "code",
   "execution_count": 27,
   "metadata": {
    "collapsed": false
   },
   "outputs": [
    {
     "data": {
      "text/plain": [
       "0                                    []\n",
       "1                                    []\n",
       "2                       ['basis,6-bew']\n",
       "3                                    []\n",
       "4                                    []\n",
       "5                                    []\n",
       "6                                    []\n",
       "7                                    []\n",
       "8                                    []\n",
       "9                                    []\n",
       "10                                   []\n",
       "11                    ['basis,5-dyspn']\n",
       "12                                   []\n",
       "13                                   []\n",
       "14                   ['basis,6-physio']\n",
       "15                                   []\n",
       "16                      ['basis,6-zvk']\n",
       "17                                   []\n",
       "18                                   []\n",
       "19                                   []\n",
       "20       ['basis,6-bew','basis,7-reha']\n",
       "21                       ['basis,7-pm']\n",
       "22                                   []\n",
       "23                                   []\n",
       "24                                   []\n",
       "25                                   []\n",
       "26                                   []\n",
       "27                                   []\n",
       "28                                   []\n",
       "29                                   []\n",
       "                      ...              \n",
       "45855                                []\n",
       "45856                                []\n",
       "45857                                []\n",
       "45858                                []\n",
       "45859                                []\n",
       "45860                                []\n",
       "45861                                []\n",
       "45862                                []\n",
       "45863                                []\n",
       "45864                                []\n",
       "45865                                []\n",
       "45866                                []\n",
       "45867                                []\n",
       "45868                                []\n",
       "45869                                []\n",
       "45870                                []\n",
       "45871                                []\n",
       "45872                                []\n",
       "45873                                []\n",
       "45874                                []\n",
       "45875                                []\n",
       "45876                                []\n",
       "45877                                []\n",
       "45878                                []\n",
       "45879                                []\n",
       "45880                                []\n",
       "45881                                []\n",
       "45882                                []\n",
       "45883                                []\n",
       "45884                                []\n",
       "Name: classifications, dtype: object"
      ]
     },
     "execution_count": 27,
     "metadata": {},
     "output_type": "execute_result"
    }
   ],
   "source": [
    "from sklearn.preprocessing import LabelEncoder\n",
    "from sklearn.preprocessing import OneHotEncoder\n",
    "features.classifications.\n",
    "# encoded_classifications = LabelEncoder().fit_transform(features.classifications)\n",
    "# encoded_classifications"
   ]
  },
  {
   "cell_type": "code",
   "execution_count": null,
   "metadata": {
    "collapsed": true
   },
   "outputs": [],
   "source": []
  },
  {
   "cell_type": "code",
   "execution_count": null,
   "metadata": {
    "collapsed": true
   },
   "outputs": [],
   "source": []
  },
  {
   "cell_type": "code",
   "execution_count": null,
   "metadata": {
    "collapsed": true
   },
   "outputs": [],
   "source": []
  },
  {
   "cell_type": "code",
   "execution_count": null,
   "metadata": {
    "collapsed": true
   },
   "outputs": [],
   "source": []
  },
  {
   "cell_type": "code",
   "execution_count": null,
   "metadata": {
    "collapsed": true
   },
   "outputs": [],
   "source": []
  },
  {
   "cell_type": "code",
   "execution_count": 20,
   "metadata": {
    "collapsed": false
   },
   "outputs": [
    {
     "name": "stdout",
     "output_type": "stream",
     "text": [
      "[]\n"
     ]
    }
   ],
   "source": [
    "for filename in features[0:10].filename.dropna().values:\n",
    "    print glob(\"data/master/texts/{}\".format(filename.replace(\".pdf\", \".txt\")))\n",
    "    break"
   ]
  },
  {
   "cell_type": "code",
   "execution_count": null,
   "metadata": {
    "collapsed": true
   },
   "outputs": [],
   "source": []
  },
  {
   "cell_type": "code",
   "execution_count": null,
   "metadata": {
    "collapsed": false
   },
   "outputs": [],
   "source": []
  },
  {
   "cell_type": "code",
   "execution_count": null,
   "metadata": {
    "collapsed": true
   },
   "outputs": [],
   "source": []
  }
 ],
 "metadata": {
  "kernelspec": {
   "display_name": "Python 2",
   "language": "python",
   "name": "python2"
  },
  "language_info": {
   "codemirror_mode": {
    "name": "ipython",
    "version": 2
   },
   "file_extension": ".py",
   "mimetype": "text/x-python",
   "name": "python",
   "nbconvert_exporter": "python",
   "pygments_lexer": "ipython2",
   "version": "2.7.12"
  }
 },
 "nbformat": 4,
 "nbformat_minor": 2
}
